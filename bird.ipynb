
!pip install  /input/openvino-package/openvino-2024.0.0-14509-cp310-cp310-manylinux2014_x86_64.whl --no-index --find-links

#import

import random
import cv2
import json
import copy
import gc
import os
import pickle
import time


from glob import glob
from tqdm import tqdm

import pandas as pd
import numpy as np
import soundfile as sf

import torch
import torchaudio
import torch.nn as nn
from torch.utils.data import DataLoader

import openvino as ov
import openvino.properties.hint as hints

class VINOEngine:
    def __init__(self, onnx_f):
        core = ov.Core()
        
        model_onnx = core.read_model(onnx_f)        
        
        self.compiled_model = core.compile_model(model=model_onnx,device_name='AUTO')
        
        
        self.output_layer = self.compiled_model.output(0)
    def __call__(self, data):
        
        result_infer = self.compiled_model(data)[self.output_layer]
        return result_infer



        CFG={
            'batch_size':1,
            'num_worker':4,
            'slice_len':5,
            'used_frame':48,
            'sample_rate':32000,
            'data':'/input/birdclef-2024/test_soundscapes',
            'weights_1d':'/input/bird-1d',
            'weights_spec':'/input/bird-spec',
            'weights_mix':'/input/another-spec',
            'nm2cls':{'asbfly': 0, 'ashdro1': 1, 'ashpri1': 2, 'ashwoo2': 3, 'asikoe2': 4, 'asiope1': 5,
                             'aspfly1': 6, 'aspswi1': 7, 'barfly1': 8, 'barswa': 9, 'bcnher': 10, 'bkcbul1': 11,
                             'bkrfla1': 12, 'bkskit1': 13, 'bkwsti': 14, 'bladro1': 15, 'blaeag1': 16, 'blakit1': 17,
                             'blhori1': 18, 'blnmon1': 19, 'blrwar1': 20, 'bncwoo3': 21, 'brakit1': 22, 'brasta1': 23,
                             'brcful1': 24, 'brfowl1': 25, 'brnhao1': 26, 'brnshr': 27, 'brodro1': 28, 'brwjac1': 29,
                             'brwowl1': 30, 'btbeat1': 31, 'bwfshr1': 32, 'categr': 33, 'chbeat1': 34, 'cohcuc1': 35,
                             'comfla1': 36, 'comgre': 37, 'comior1': 38, 'comkin1': 39, 'commoo3': 40, 'commyn': 41,
                             'compea': 42, 'comros': 43, 'comsan': 44, 'comtai1': 45, 'copbar1': 46, 'crbsun2': 47,
                             'cregos1': 48, 'crfbar1': 49, 'crseag1': 50, 'dafbab1': 51, 'darter2': 52, 'eaywag1': 53,
                             'emedov2': 54, 'eucdov': 55, 'eurbla2': 56, 'eurcoo': 57, 'forwag1': 58, 'gargan': 59,
                             'gloibi': 60, 'goflea1': 61, 'graher1': 62, 'grbeat1': 63, 'grecou1': 64, 'greegr': 65,
                             'grefla1': 66, 'grehor1': 67, 'grejun2': 68, 'grenig1': 69, 'grewar3': 70, 'grnsan': 71,
                             'grnwar1': 72, 'grtdro1': 73, 'gryfra': 74, 'grynig2': 75, 'grywag': 76, 'gybpri1': 77,
                             'gyhcaf1': 78, 'heswoo1': 79, 'hoopoe': 80, 'houcro1': 81, 'houspa': 82, 'inbrob1': 83,
                             'indpit1': 84, 'indrob1': 85, 'indrol2': 86, 'indtit1': 87, 'ingori1': 88, 'inpher1': 89,
                             'insbab1': 90, 'insowl1': 91, 'integr': 92, 'isbduc1': 93, 'jerbus2': 94, 'junbab2': 95,
                             'junmyn1': 96, 'junowl1': 97, 'kenplo1': 98, 'kerlau2': 99, 'labcro1': 100, 'laudov1': 101,
                             'lblwar1': 102, 'lesyel1': 103, 'lewduc1': 104, 'lirplo': 105, 'litegr': 106, 'litgre1': 107,
                             'litspi1': 108, 'litswi1': 109, 'lobsun2': 110, 'maghor2': 111, 'malpar1': 112, 'maltro1': 113,
                             'malwoo1': 114, 'marsan': 115, 'mawthr1': 116, 'moipig1': 117, 'nilfly2': 118, 'niwpig1': 119,
                             'nutman': 120, 'orihob2': 121, 'oripip1': 122, 'pabflo1': 123, 'paisto1': 124, 'piebus1': 125,
                             'piekin1': 126, 'placuc3': 127, 'plaflo1': 128, 'plapri1': 129, 'plhpar1': 130, 'pomgrp2': 131,
                             'purher1': 132, 'pursun3': 133, 'pursun4': 134, 'purswa3': 135, 'putbab1': 136, 'redspu1': 137,
                             'rerswa1': 138, 'revbul': 139, 'rewbul': 140, 'rewlap1': 141, 'rocpig': 142, 'rorpar': 143,
                             'rossta2': 144, 'rufbab3': 145, 'ruftre2': 146, 'rufwoo2': 147, 'rutfly6': 148, 'sbeowl1': 149,
                             'scamin3': 150, 'shikra1': 151, 'smamin1': 152, 'sohmyn1': 153, 'spepic1': 154, 'spodov': 155,
                             'spoowl1': 156, 'sqtbul1': 157, 'stbkin1': 158, 'sttwoo1': 159, 'thbwar1': 160, 'tibfly3': 161,
                             'tilwar1': 162, 'vefnut1': 163, 'vehpar1': 164, 'wbbfly1': 165, 'wemhar1': 166, 'whbbul2': 167,
                             'whbsho3': 168, 'whbtre1': 169, 'whbwag1': 170, 'whbwat1': 171, 'whbwoo2': 172, 'whcbar1': 173,
                             'whiter2': 174, 'whrmun': 175, 'whtkin2': 176, 'woosan': 177, 'wynlau1': 178, 'yebbab1': 179,
                             'yebbul3': 180, 'zitcis1': 181}
        
        }
        
        
        if len(os.listdir('/input/birdclef-2024/test_soundscapes'))==1:
            CFG['data'] = '/input/birdclef-2024/unlabeled_soundscapes/'

            weights_1d=[]


            CFG['weights_1d']=[os.path.join(CFG['weights_1d'],x) for x in sorted(os.listdir(CFG['weights_1d']))]
            CFG['weights_spec']=[os.path.join(CFG['weights_spec'],x) for x in sorted(os.listdir(CFG['weights_spec']))]
            CFG['weights_mix']=[os.path.join(CFG['weights_mix'],x) for x in sorted(os.listdir(CFG['weights_mix']))]

            #dataiter
class AlaskaDataIter():
    def __init__(self, 
                 data_dir,
                 training_flag=False,
                 shuffle=False,
                 use_spec=False):
        
        file_list=os.listdir(data_dir)
        
        self.file_list=[os.path.join(CFG['data'],x) for x in file_list if 'ogg' in x]
        self.file_list.sort()
        if CFG['data']=='/input/birdclef-2024/unlabeled_soundscapes/':
            self.file_list=self.file_list[:2]
        self.training_flag=training_flag
        self.use_spec=use_spec
        if self.use_spec:
            self.wave2spec=Transform().to('cpu')
    def __getitem__(self, item):
        
        return self.single_map_func(self.file_list[item], self.training_flag)

    def __len__(self):

        return len(self.file_list)
    
    def safe_pad(self,waves,valid_lenth=32000*5):
        L=waves.shape[0]


        if L<valid_lenth:
            padded_array = np.zeros(valid_lenth)
            padded_array[:L] = waves

            return padded_array
        else:
            return waves
    def single_map_func(self, fn, is_training):
        """Data augmentation function."""
        
        ####customed here
        base_name = os.path.basename(fn)
        
        row_id=base_name.rsplit('.',1)[0]
        
        
        waves, samplerate = sf.read(fn)
            
        
        waves=np.reshape(waves,newshape=[-1,CFG['sample_rate']*CFG['slice_len']])

        data=waves.astype(np.float32)
        
        # clip
        for i in range(data.shape[0]):
            max_v=np.max(np.abs(data[i]))
            if max_v>1:
                data[i]=data[i]/max_v
        
        raw=data
        if self.use_spec:
            data_tensor = torch.from_numpy(data).to('cpu')
            
            spec,spec_256 = self.wave2spec(data_tensor)
            spec = spec.cpu().numpy().astype(np.float32)
            spec_256= spec_256.cpu().numpy().astype(np.float32)
            
            
        else:
            spec=None
            spec_256=None
        row_ids=[]

        for i in range(int(waves.shape[0]*(CFG['slice_len']/5))):
            row_ids.append(row_id+'_%d'%(5*(i+1)))
        
        data={'raw':raw,
              'spec':spec,
              'mix':spec_256,
              'row_ids':row_ids}
        return data
        def run_single_model(models,data):
    output_collection=[]
    for vino_modle in models:
        output = vino_modle(data)
        # new a array to avoid err,
        output = np.array(output)
        output_collection.append(output)
    ans=np.mean(output_collection,axis=0)
    
    return ans
    def inference(test_loader, models):
    
    prediction_dict = {}
    preds = []
    row_ids=[]
    with tqdm(test_loader, unit="test_batch", desc='Inference') as tqdm_test_loader:
        for step, X in enumerate(tqdm_test_loader):
            
            X=X[0]
            used_frame=CFG['used_frame']
            
            x_raw=X['raw']
            x_spec=X['spec']
            x_spec_256=X['mix']
            
            row_id=X['row_ids']
            tmppre=[]
            for j in range(len(x_raw)):
                input_raw=x_raw[j][None,]
                input_spec=x_spec[j][None,]
                input_spec_256=x_spec_256[j][None,]

                output1=run_single_model(models['raw'],[input_raw])
                output2=run_single_model(models['spec'],[input_spec])
                output3=run_single_model(models['mix'],[input_raw,input_spec_256])
                
                ans=output1*0.5+output2*0.4+output3*0.1
                
                tmppre.append(ans)
            y_preds=np.concatenate(tmppre,axis=0)
            
            
            preds.append(y_preds) 
            row_ids.append(row_id) 
                
    prediction_dict["predictions"] = np.concatenate(preds) 
    prediction_dict["row_ids"] = np.concatenate(row_ids) 
    return prediction_dict
    def run():
    
    t0=time.time()
    # dataloader
    test_dataset = AlaskaDataIter(CFG['data'], training_flag=False, shuffle=False,use_spec=True)
    test_loader = DataLoader(test_dataset,
                     CFG['batch_size'],
                     num_workers=CFG['num_worker'],
                     shuffle=False,
                     collate_fn=lambda x :x)
    vino_models={'raw':[],
               'spec':[],
                'mix':[]}
    
    
    for model_weight in CFG['weights_1d'][:3]:
        model = VINOEngine(model_weight)
        vino_models['raw'].append(model)
        
    for model_weight in CFG['weights_spec'][:1]:
        model = VINOEngine(model_weight)
        vino_models['spec'].append(model)
        
    for model_weight in CFG['weights_mix'][:1]:
        model = VINOEngine(model_weight)
        vino_models['mix'].append(model)
    
    prediction_dict = inference(test_loader, vino_models)
    
    

    print('probably %.2f seconds'%(1100/2*(time.time()-t0)))
    
    return prediction_dict
    prediction_dict=run()
    print(prediction_dict['row_ids'].shape)
print(prediction_dict['predictions'].shape)

row_ids= list(prediction_dict['row_ids'])
row_ids=[str(x) for x in row_ids]

